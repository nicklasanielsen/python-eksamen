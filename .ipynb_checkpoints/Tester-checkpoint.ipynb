{
 "cells": [
  {
   "cell_type": "code",
   "execution_count": 1,
   "metadata": {
    "scrolled": false
   },
   "outputs": [
    {
     "name": "stdout",
     "output_type": "stream",
     "text": [
      "5900 Rudkøbing\n",
      "Else statement\n",
      "5230 Odense\n",
      "Else statement\n",
      "5900 Rudkøbing\n",
      "If statement\n",
      "5700 Svendborg\n",
      "Else statement\n",
      "5230 Odense\n",
      "If statement\n",
      "5220 Odense\n",
      "Else statement\n",
      "5000 Odense\n",
      "Else statement\n",
      "5900 Rudkøbing\n",
      "If statement\n",
      "5800 Nyborg\n",
      "Else statement\n",
      "5762 Vester-Skernninge\n",
      "Else statement\n",
      "5700 Svendborg\n",
      "If statement\n",
      "5620 Glamsbjerg\n",
      "Else statement\n",
      "5492 Vissenbjerg\n",
      "Else statement\n",
      "5450 Otterup\n",
      "Else statement\n",
      "5270 Odense\n",
      "Else statement\n",
      "5260 Odense\n",
      "Else statement\n",
      "5250 Odense\n",
      "Else statement\n",
      "5240 Odense\n",
      "Else statement\n",
      "5230 Odense\n",
      "If statement\n",
      "5220 Odense\n",
      "If statement\n",
      "5200 Odense\n",
      "Else statement\n",
      "5000 Odense\n",
      "If statement\n"
     ]
    },
    {
     "data": {
      "text/plain": [
       "[('5900 Rudkøbing', 3),\n",
       " ('5230 Odense', 3),\n",
       " ('5700 Svendborg', 2),\n",
       " ('5220 Odense', 2),\n",
       " ('5000 Odense', 2),\n",
       " ('5800 Nyborg', 1),\n",
       " ('5762 Vester-Skernninge', 1),\n",
       " ('5620 Glamsbjerg', 1),\n",
       " ('5492 Vissenbjerg', 1),\n",
       " ('5450 Otterup', 1),\n",
       " ('5270 Odense', 1),\n",
       " ('5260 Odense', 1),\n",
       " ('5250 Odense', 1),\n",
       " ('5240 Odense', 1),\n",
       " ('5200 Odense', 1)]"
      ]
     },
     "execution_count": 1,
     "metadata": {},
     "output_type": "execute_result"
    }
   ],
   "source": [
    "from Data_Grabber import *\n",
    "\n",
    "#read_page()\n",
    "#select_Segment()\n",
    "#select_Headline()\n",
    "#select_Incident_Text()\n",
    "#select_Incident_Header()\n",
    "#select_All_Text()\n",
    "#select_Incident()\n",
    "#select_Incident_Crimes()\n",
    "#incident_Locations()\n",
    "#testtest()\n",
    "#incident_Time()\n",
    "plotting()"
   ]
  },
  {
   "cell_type": "code",
   "execution_count": null,
   "metadata": {},
   "outputs": [],
   "source": []
  }
 ],
 "metadata": {
  "kernelspec": {
   "display_name": "Python 3",
   "language": "python",
   "name": "python3"
  },
  "language_info": {
   "codemirror_mode": {
    "name": "ipython",
    "version": 3
   },
   "file_extension": ".py",
   "mimetype": "text/x-python",
   "name": "python",
   "nbconvert_exporter": "python",
   "pygments_lexer": "ipython3",
   "version": "3.7.6"
  }
 },
 "nbformat": 4,
 "nbformat_minor": 4
}
