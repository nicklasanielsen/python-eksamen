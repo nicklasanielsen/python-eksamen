{
 "cells": [
  {
   "cell_type": "code",
   "execution_count": 1,
   "metadata": {
    "scrolled": true
   },
   "outputs": [
    {
     "data": {
      "text/plain": [
       "[<h3> </h3>,\n",
       " <h3>Assens</h3>,\n",
       " <h3>\n",
       " Faaborg/Midtfyn</h3>,\n",
       " <h3>\n",
       " Kerteminde</h3>,\n",
       " <h3>\n",
       " Langeland</h3>,\n",
       " <h3>\n",
       " Middelfart</h3>,\n",
       " <h3>\n",
       " Nordfyn</h3>,\n",
       " <h3>\n",
       " Nyborg</h3>,\n",
       " <h3>\n",
       " Odense</h3>,\n",
       " <h3>\n",
       " Svendborg</h3>,\n",
       " <h3>\n",
       " Ærø</h3>]"
      ]
     },
     "execution_count": 1,
     "metadata": {},
     "output_type": "execute_result"
    }
   ],
   "source": [
    "from Data_Grabber import *\n",
    "\n",
    "select_Incident_Header()"
   ]
  },
  {
   "cell_type": "code",
   "execution_count": null,
   "metadata": {},
   "outputs": [],
   "source": []
  }
 ],
 "metadata": {
  "kernelspec": {
   "display_name": "Python 3",
   "language": "python",
   "name": "python3"
  },
  "language_info": {
   "codemirror_mode": {
    "name": "ipython",
    "version": 3
   },
   "file_extension": ".py",
   "mimetype": "text/x-python",
   "name": "python",
   "nbconvert_exporter": "python",
   "pygments_lexer": "ipython3",
   "version": "3.7.6"
  }
 },
 "nbformat": 4,
 "nbformat_minor": 4
}
