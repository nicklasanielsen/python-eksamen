{
 "cells": [
  {
   "cell_type": "code",
   "execution_count": 1,
   "metadata": {
    "scrolled": false
   },
   "outputs": [],
   "source": [
    "from Data_Grabber import *\n",
    "\n",
    "link = \"https://politi.dk/fyns-politi/doegnrapporter/d%C3%B8gnrapport/2021/05/19\"\n",
    "linkk = \"https://politi.dk/fyns-politi/doegnrapporter/fyns-politi-doegnrapport-20052021/2021/05/21\"\n",
    "linkkk = \"https://politi.dk/fyns-politi/doegnrapporter/d%C3%B8gnrapport/2021/05/12\"\n",
    "linkkkk = \"https://politi.dk/fyns-politi/doegnrapporter/d%C3%B8gnrapport/2021/05/10\"\n",
    "linkkkkk = \"https://politi.dk/fyns-politi/doegnrapporter/d%C3%B8gnrapport/2021/04/26\"\n",
    "nytlink = \"https://politi.dk/nordsjaellands-politi/doegnrapporter/nordsjaellands-politi-uddrag-af-doegnrapport-2526-maj-2021/2021/05/26\"\n",
    "link2 = \"https://politi.dk/nordjyllands-politi/doegnrapporter/nordjyllands-politi-uddrag-af-doegnrapporten-den-26-27-maj-2021/2021/05/27\"\n",
    "\n",
    "list_of_rapports = []\n",
    "list_of_rapports.append(link)\n",
    "list_of_rapports.append(linkk)\n",
    "list_of_rapports.append(linkkk)\n",
    "list_of_rapports.append(linkkkk)\n",
    "list_of_rapports.append(linkkkkk)\n",
    "\n",
    "list_of_rapports.append(nytlink)\n",
    "list_of_rapports.append(link2)\n",
    "#read_page()\n",
    "#select_Segment()\n",
    "#select_Headline()\n",
    "#select_Incident_Text()\n",
    "#select_Incident_Header(link)\n",
    "#select_All_Text()\n",
    "#select_Incident(nytlink)\n",
    "#select_Incident_Crimes(link)\n",
    "#incident_Locations(linkk)\n",
    "#incidents_for_cities(list_of_rapports)\n",
    "#calculate_crimes(list_of_rapports)\n",
    "#incident_Time(link)\n",
    "#plotting(list_of_rapports)\n",
    "#csv_cities(list_of_rapports)\n",
    "#testtest(list_of_rapports)"
   ]
  },
  {
   "cell_type": "code",
   "execution_count": 2,
   "metadata": {},
   "outputs": [],
   "source": [
    "#calculate_crimes(list_of_rapports)"
   ]
  },
  {
   "cell_type": "code",
   "execution_count": 3,
   "metadata": {},
   "outputs": [],
   "source": [
    "#incidents_for_cities(list_of_rapports)"
   ]
  },
  {
   "cell_type": "code",
   "execution_count": 4,
   "metadata": {},
   "outputs": [],
   "source": [
    "#plotting(list_of_rapports)"
   ]
  },
  {
   "cell_type": "code",
   "execution_count": 5,
   "metadata": {},
   "outputs": [
    {
     "data": {
      "application/vnd.jupyter.widget-view+json": {
       "model_id": "fbad95e458c546c4bc54eaa1082a0e49",
       "version_major": 2,
       "version_minor": 0
      },
      "text/plain": [
       "Figure(layout=FigureLayout(height='420px'))"
      ]
     },
     "metadata": {},
     "output_type": "display_data"
    }
   ],
   "source": [
    "draw_heatmap(list_of_rapports)"
   ]
  }
 ],
 "metadata": {
  "kernelspec": {
   "display_name": "Python 3",
   "language": "python",
   "name": "python3"
  },
  "language_info": {
   "codemirror_mode": {
    "name": "ipython",
    "version": 3
   },
   "file_extension": ".py",
   "mimetype": "text/x-python",
   "name": "python",
   "nbconvert_exporter": "python",
   "pygments_lexer": "ipython3",
   "version": "3.7.6"
  }
 },
 "nbformat": 4,
 "nbformat_minor": 4
}
