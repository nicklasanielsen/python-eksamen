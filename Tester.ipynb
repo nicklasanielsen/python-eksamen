{
 "cells": [
  {
   "cell_type": "code",
   "execution_count": 1,
   "metadata": {
    "scrolled": false
   },
   "outputs": [
    {
     "data": {
      "text/plain": [
       "[{'Region': 'Assens',\n",
       "  'By og postnummer': '5492 Vissenbjerg',\n",
       "  'Antal af forbrydelser': 2},\n",
       " {'Region': 'Assens',\n",
       "  'By og postnummer': '5620 Glamsbjerg',\n",
       "  'Antal af forbrydelser': 2},\n",
       " {'Region': 'Assens',\n",
       "  'By og postnummer': '5900 Rudkøbing',\n",
       "  'Antal af forbrydelser': 1},\n",
       " {'Region': 'Assens',\n",
       "  'By og postnummer': '5900 Rudkøbing',\n",
       "  'Antal af forbrydelser': 2},\n",
       " {'Region': 'Assens',\n",
       "  'By og postnummer': '5900 Rudkøbing',\n",
       "  'Antal af forbrydelser': 3},\n",
       " {'Region': 'Assens',\n",
       "  'By og postnummer': '5450 Otterup',\n",
       "  'Antal af forbrydelser': 3},\n",
       " {'Region': 'Assens',\n",
       "  'By og postnummer': '5800 Nyborg',\n",
       "  'Antal af forbrydelser': 1},\n",
       " {'Region': 'Assens',\n",
       "  'By og postnummer': '5000 Odense',\n",
       "  'Antal af forbrydelser': 1},\n",
       " {'Region': 'Assens',\n",
       "  'By og postnummer': '5220 Odense',\n",
       "  'Antal af forbrydelser': 1},\n",
       " {'Region': 'Assens',\n",
       "  'By og postnummer': '5220 Odense',\n",
       "  'Antal af forbrydelser': 2},\n",
       " {'Region': 'Assens',\n",
       "  'By og postnummer': '5230 Odense',\n",
       "  'Antal af forbrydelser': 2},\n",
       " {'Region': 'Assens',\n",
       "  'By og postnummer': '5230 Odense',\n",
       "  'Antal af forbrydelser': 2},\n",
       " {'Region': 'Assens',\n",
       "  'By og postnummer': '5250 Odense',\n",
       "  'Antal af forbrydelser': 2},\n",
       " {'Region': 'Assens',\n",
       "  'By og postnummer': '5260 Odense',\n",
       "  'Antal af forbrydelser': 1},\n",
       " {'Region': 'Assens',\n",
       "  'By og postnummer': '5270 Odense',\n",
       "  'Antal af forbrydelser': 1},\n",
       " {'Region': 'Assens',\n",
       "  'By og postnummer': '5000 Odense',\n",
       "  'Antal af forbrydelser': 1},\n",
       " {'Region': 'Assens',\n",
       "  'By og postnummer': '5200 Odense',\n",
       "  'Antal af forbrydelser': 1},\n",
       " {'Region': 'Assens',\n",
       "  'By og postnummer': '5230 Odense',\n",
       "  'Antal af forbrydelser': 1},\n",
       " {'Region': 'Assens',\n",
       "  'By og postnummer': '5240 Odense',\n",
       "  'Antal af forbrydelser': 1},\n",
       " {'Region': 'Assens',\n",
       "  'By og postnummer': '5700 Svendborg',\n",
       "  'Antal af forbrydelser': 1},\n",
       " {'Region': 'Assens',\n",
       "  'By og postnummer': '5700 Svendborg',\n",
       "  'Antal af forbrydelser': 2},\n",
       " {'Region': 'Assens',\n",
       "  'By og postnummer': '5762 Vester-Skernninge',\n",
       "  'Antal af forbrydelser': 2}]"
      ]
     },
     "execution_count": 1,
     "metadata": {},
     "output_type": "execute_result"
    }
   ],
   "source": [
    "from Data_Grabber import *\n",
    "\n",
    "#read_page()\n",
    "#select_Segment()\n",
    "#select_Headline()\n",
    "#select_Incident_Text()\n",
    "#select_Incident_Header()\n",
    "#select_All_Text()\n",
    "#select_Incident()\n",
    "incident_Locations()\n",
    "#incident_Time()"
   ]
  },
  {
   "cell_type": "code",
   "execution_count": null,
   "metadata": {},
   "outputs": [],
   "source": []
  }
 ],
 "metadata": {
  "kernelspec": {
   "display_name": "Python 3",
   "language": "python",
   "name": "python3"
  },
  "language_info": {
   "codemirror_mode": {
    "name": "ipython",
    "version": 3
   },
   "file_extension": ".py",
   "mimetype": "text/x-python",
   "name": "python",
   "nbconvert_exporter": "python",
   "pygments_lexer": "ipython3",
   "version": "3.7.6"
  }
 },
 "nbformat": 4,
 "nbformat_minor": 4
}
